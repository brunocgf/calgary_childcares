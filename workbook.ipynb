{
 "cells": [
  {
   "cell_type": "code",
   "execution_count": 6,
   "id": "f2884a36-3b73-4f93-bf7d-1c5b6c3b41d9",
   "metadata": {},
   "outputs": [],
   "source": [
    "import yaml\n",
    "import numpy as np\n",
    "import pandas as pd\n",
    "from sodapy import Socrata"
   ]
  },
  {
   "cell_type": "code",
   "execution_count": 7,
   "id": "dd88f83e-7673-48f3-a6c3-bd4f6be0f254",
   "metadata": {},
   "outputs": [],
   "source": [
    "with open(\"credentials.yml\", \"r\") as cred:\n",
    "    res = yaml.safe_load(cred)"
   ]
  },
  {
   "cell_type": "code",
   "execution_count": 9,
   "id": "efbf3a16-fdb9-4119-93a3-63ff143368d4",
   "metadata": {},
   "outputs": [],
   "source": [
    "token = res['api_token']"
   ]
  },
  {
   "cell_type": "code",
   "execution_count": 10,
   "id": "44df0b99-d194-42dd-889a-58869f93c0bf",
   "metadata": {},
   "outputs": [],
   "source": [
    "client = Socrata(\"data.calgary.ca\", token)"
   ]
  },
  {
   "cell_type": "code",
   "execution_count": 11,
   "id": "cee72eb9-6cb8-468b-904c-2433b1a25c97",
   "metadata": {},
   "outputs": [],
   "source": [
    "result = client.get_all(\"qdxh-qngy\")"
   ]
  },
  {
   "cell_type": "code",
   "execution_count": 13,
   "id": "d34d3c81-80b2-4b2e-a173-ec1f072ae4eb",
   "metadata": {},
   "outputs": [],
   "source": [
    "data = []"
   ]
  },
  {
   "cell_type": "code",
   "execution_count": 15,
   "id": "ac42239d-a0e1-45a1-852d-0afcf2880a2b",
   "metadata": {},
   "outputs": [],
   "source": [
    "for line in result:\n",
    "        data.append(line)"
   ]
  },
  {
   "cell_type": "code",
   "execution_count": 19,
   "id": "0542b7cd-6dae-4388-8065-ca016a888366",
   "metadata": {},
   "outputs": [],
   "source": [
    "df = pd.DataFrame(data)"
   ]
  },
  {
   "cell_type": "code",
   "execution_count": 20,
   "id": "240413aa-bd91-4977-9138-8d4aff05d56c",
   "metadata": {},
   "outputs": [
    {
     "data": {
      "text/html": [
       "<div>\n",
       "<style scoped>\n",
       "    .dataframe tbody tr th:only-of-type {\n",
       "        vertical-align: middle;\n",
       "    }\n",
       "\n",
       "    .dataframe tbody tr th {\n",
       "        vertical-align: top;\n",
       "    }\n",
       "\n",
       "    .dataframe thead th {\n",
       "        text-align: right;\n",
       "    }\n",
       "</style>\n",
       "<table border=\"1\" class=\"dataframe\">\n",
       "  <thead>\n",
       "    <tr style=\"text-align: right;\">\n",
       "      <th></th>\n",
       "      <th>program_name</th>\n",
       "      <th>type_of_program</th>\n",
       "      <th>program_address</th>\n",
       "      <th>program_city</th>\n",
       "      <th>postal_code</th>\n",
       "      <th>phone_number</th>\n",
       "      <th>capacity</th>\n",
       "      <th>inspection_date</th>\n",
       "      <th>inspection_reason</th>\n",
       "      <th>unique_id</th>\n",
       "      <th>non_compliance_name</th>\n",
       "      <th>enforcement_action</th>\n",
       "      <th>remedy_date</th>\n",
       "    </tr>\n",
       "  </thead>\n",
       "  <tbody>\n",
       "    <tr>\n",
       "      <th>0</th>\n",
       "      <td>CALGARY KIDS CENTER INC</td>\n",
       "      <td>OUT OF SCHOOL CARE PROGRAM</td>\n",
       "      <td>789 NORTHMOUNT DRIVE NW</td>\n",
       "      <td>CALGARY</td>\n",
       "      <td>T2L0A1</td>\n",
       "      <td>4033540657</td>\n",
       "      <td>20</td>\n",
       "      <td>2018-03-14T00:00:00.000</td>\n",
       "      <td>FOLLOW UP TO ENFORCEMENT ACTION</td>\n",
       "      <td>C0F7B92FBBC7014ED1D8907373D98B6A-CALGARY KIDS ...</td>\n",
       "      <td>NaN</td>\n",
       "      <td>NaN</td>\n",
       "      <td>NaN</td>\n",
       "    </tr>\n",
       "    <tr>\n",
       "      <th>1</th>\n",
       "      <td>CALGARY KIDS CENTER INC</td>\n",
       "      <td>OUT OF SCHOOL CARE PROGRAM</td>\n",
       "      <td>789 NORTHMOUNT DRIVE NW</td>\n",
       "      <td>CALGARY</td>\n",
       "      <td>T2L0A1</td>\n",
       "      <td>4033540657</td>\n",
       "      <td>20</td>\n",
       "      <td>2018-03-14T00:00:00.000</td>\n",
       "      <td>FOLLOW UP TO ENFORCEMENT ACTION</td>\n",
       "      <td>C0F7B92FBBC7014ED1D8907373D98B6A-CALGARY KIDS ...</td>\n",
       "      <td>NaN</td>\n",
       "      <td>NaN</td>\n",
       "      <td>NaN</td>\n",
       "    </tr>\n",
       "    <tr>\n",
       "      <th>2</th>\n",
       "      <td>CALGARY KIDS CENTER INC</td>\n",
       "      <td>OUT OF SCHOOL CARE PROGRAM</td>\n",
       "      <td>789 NORTHMOUNT DRIVE NW</td>\n",
       "      <td>CALGARY</td>\n",
       "      <td>T2L0A1</td>\n",
       "      <td>4033540657</td>\n",
       "      <td>20</td>\n",
       "      <td>2018-03-14T00:00:00.000</td>\n",
       "      <td>FOLLOW UP TO ENFORCEMENT ACTION</td>\n",
       "      <td>C0F7B92FBBC7014ED1D8907373D98B6A-CALGARY KIDS ...</td>\n",
       "      <td>NaN</td>\n",
       "      <td>NaN</td>\n",
       "      <td>NaN</td>\n",
       "    </tr>\n",
       "    <tr>\n",
       "      <th>3</th>\n",
       "      <td>CALGARY KIDS CENTER INC</td>\n",
       "      <td>OUT OF SCHOOL CARE PROGRAM</td>\n",
       "      <td>789 NORTHMOUNT DRIVE NW</td>\n",
       "      <td>CALGARY</td>\n",
       "      <td>T2L0A1</td>\n",
       "      <td>4033540657</td>\n",
       "      <td>20</td>\n",
       "      <td>2018-03-14T00:00:00.000</td>\n",
       "      <td>FOLLOW UP TO ENFORCEMENT ACTION</td>\n",
       "      <td>C0F7B92FBBC7014ED1D8907373D98B6A-CALGARY KIDS ...</td>\n",
       "      <td>NaN</td>\n",
       "      <td>NaN</td>\n",
       "      <td>NaN</td>\n",
       "    </tr>\n",
       "    <tr>\n",
       "      <th>4</th>\n",
       "      <td>SUMMIT KIDS - NORTH HAVEN</td>\n",
       "      <td>OUT OF SCHOOL CARE PROGRAM</td>\n",
       "      <td>4922 NORTH HAVEN DRIVE NW</td>\n",
       "      <td>CALGARY</td>\n",
       "      <td>T2K2K2</td>\n",
       "      <td>NaN</td>\n",
       "      <td>64</td>\n",
       "      <td>2014-06-23T00:00:00.000</td>\n",
       "      <td>COMPLAINT INVESTIGATION</td>\n",
       "      <td>64B26F147BDB0E221117FF7A6E226B00-SUMMIT KIDS -...</td>\n",
       "      <td>NaN</td>\n",
       "      <td>NaN</td>\n",
       "      <td>NaN</td>\n",
       "    </tr>\n",
       "  </tbody>\n",
       "</table>\n",
       "</div>"
      ],
      "text/plain": [
       "                program_name             type_of_program  \\\n",
       "0    CALGARY KIDS CENTER INC  OUT OF SCHOOL CARE PROGRAM   \n",
       "1    CALGARY KIDS CENTER INC  OUT OF SCHOOL CARE PROGRAM   \n",
       "2    CALGARY KIDS CENTER INC  OUT OF SCHOOL CARE PROGRAM   \n",
       "3    CALGARY KIDS CENTER INC  OUT OF SCHOOL CARE PROGRAM   \n",
       "4  SUMMIT KIDS - NORTH HAVEN  OUT OF SCHOOL CARE PROGRAM   \n",
       "\n",
       "             program_address program_city postal_code phone_number capacity  \\\n",
       "0    789 NORTHMOUNT DRIVE NW      CALGARY      T2L0A1   4033540657       20   \n",
       "1    789 NORTHMOUNT DRIVE NW      CALGARY      T2L0A1   4033540657       20   \n",
       "2    789 NORTHMOUNT DRIVE NW      CALGARY      T2L0A1   4033540657       20   \n",
       "3    789 NORTHMOUNT DRIVE NW      CALGARY      T2L0A1   4033540657       20   \n",
       "4  4922 NORTH HAVEN DRIVE NW      CALGARY      T2K2K2          NaN       64   \n",
       "\n",
       "           inspection_date                inspection_reason  \\\n",
       "0  2018-03-14T00:00:00.000  FOLLOW UP TO ENFORCEMENT ACTION   \n",
       "1  2018-03-14T00:00:00.000  FOLLOW UP TO ENFORCEMENT ACTION   \n",
       "2  2018-03-14T00:00:00.000  FOLLOW UP TO ENFORCEMENT ACTION   \n",
       "3  2018-03-14T00:00:00.000  FOLLOW UP TO ENFORCEMENT ACTION   \n",
       "4  2014-06-23T00:00:00.000          COMPLAINT INVESTIGATION   \n",
       "\n",
       "                                           unique_id non_compliance_name  \\\n",
       "0  C0F7B92FBBC7014ED1D8907373D98B6A-CALGARY KIDS ...                 NaN   \n",
       "1  C0F7B92FBBC7014ED1D8907373D98B6A-CALGARY KIDS ...                 NaN   \n",
       "2  C0F7B92FBBC7014ED1D8907373D98B6A-CALGARY KIDS ...                 NaN   \n",
       "3  C0F7B92FBBC7014ED1D8907373D98B6A-CALGARY KIDS ...                 NaN   \n",
       "4  64B26F147BDB0E221117FF7A6E226B00-SUMMIT KIDS -...                 NaN   \n",
       "\n",
       "  enforcement_action remedy_date  \n",
       "0                NaN         NaN  \n",
       "1                NaN         NaN  \n",
       "2                NaN         NaN  \n",
       "3                NaN         NaN  \n",
       "4                NaN         NaN  "
      ]
     },
     "execution_count": 20,
     "metadata": {},
     "output_type": "execute_result"
    }
   ],
   "source": [
    "df.head()"
   ]
  },
  {
   "cell_type": "code",
   "execution_count": 32,
   "id": "c9a07e66-3c8e-40ca-8b3c-8e656e78037f",
   "metadata": {},
   "outputs": [
    {
     "data": {
      "text/plain": [
       "1065"
      ]
     },
     "execution_count": 32,
     "metadata": {},
     "output_type": "execute_result"
    }
   ],
   "source": [
    "len(df['program_name'].unique())"
   ]
  },
  {
   "cell_type": "code",
   "execution_count": 27,
   "id": "2e154bec-3822-42ba-89e8-8541687e7dc6",
   "metadata": {},
   "outputs": [
    {
     "data": {
      "text/plain": [
       "FLEDGLINGS EDUCARE CENTRE                                    716\n",
       "ACORNS TO OAKTREES CHILDCARE CENTRE                          713\n",
       "SILVER SPRINGS DAY CARE CENTRE                               643\n",
       "HUNTINGTON HILLS COMMUNITY ASSOCIATION CHILD CARE PROGRAM    614\n",
       "WOODBINE DAY CARE CENTRE                                     559\n",
       "BRIGHTPATH CREEKSIDE                                         504\n",
       "BRIGHTPATH MCKENZIE TOWNE                                    483\n",
       "BRIGHTPATH DEER RIDGE                                        481\n",
       "BRIGHTPATH BOWNESS                                           474\n",
       "FUNFLEX PLAYCARE                                             472\n",
       "KIDS U NEW BRIGHTON                                          449\n",
       "ESG CHILD PLAYCARE CENTER                                    435\n",
       "TINY TOTS DAYCARE & PRESCHOOL INC.                           430\n",
       "ALPINE MONTESSORI CHILDREN'S CENTRE                          423\n",
       "KIDS & COMPANY - ROYAL OAK                                   415\n",
       "LYCEE LOUIS PASTEUR SOCIETY                                  413\n",
       "CANCARE CHILDREN'S CENTRE I                                  396\n",
       "CLEVER DAYCARE LTD.                                          394\n",
       "BRIGHTPATH FALCONRIDGE                                       393\n",
       "RANCHLANDS MONTESSORI CHILDREN'S CENTRE                      388\n",
       "Name: program_name, dtype: int64"
      ]
     },
     "execution_count": 27,
     "metadata": {},
     "output_type": "execute_result"
    }
   ],
   "source": [
    "df['program_name'].value_counts()[:20]"
   ]
  },
  {
   "cell_type": "code",
   "execution_count": 37,
   "id": "ebf3b92c-1013-4110-9ccd-2e66fc5e98a6",
   "metadata": {},
   "outputs": [
    {
     "name": "stdout",
     "output_type": "stream",
     "text": [
      "Distinct values for program_name: 1065\n",
      "\n",
      "\n",
      "Distinct values for type_of_program: 7\n",
      "Top 10:\n",
      "DAY CARE PROGRAM                   36402\n",
      "OUT OF SCHOOL CARE PROGRAM         35175\n",
      "PRE-SCHOOL PROGRAM                 14927\n",
      "FACILITY-BASED PROGRAM              4731\n",
      "FAMILY DAY HOME                      764\n",
      "GROUP FAMILY CHILD CARE PROGRAM      562\n",
      "INNOVATIVE CHILD CARE PROGRAM        490\n",
      "Name: type_of_program, dtype: int64\n",
      "\n",
      "\n",
      "Distinct values for program_address: 1818\n",
      "\n",
      "\n",
      "Distinct values for program_city: 1\n",
      "Top 10:\n",
      "CALGARY    93051\n",
      "Name: program_city, dtype: int64\n",
      "\n",
      "\n",
      "Distinct values for postal_code: 733\n",
      "\n",
      "\n",
      "Distinct values for phone_number: 1038\n",
      "\n",
      "\n",
      "Distinct values for capacity: 185\n",
      "\n",
      "\n",
      "Distinct values for inspection_date: 1784\n",
      "\n",
      "\n",
      "Distinct values for inspection_reason: 16\n",
      "Top 10:\n",
      "INSPECTION                         40861\n",
      "FOLLOW UP TO ENFORCEMENT ACTION    16458\n",
      "RENEWAL LICENCE INSPECTION          9044\n",
      "COMPLAINT INVESTIGATION             7910\n",
      "INCIDENT REPORT                     5199\n",
      "CONSULTATION                        4357\n",
      "INITIAL LICENCE INSPECTION          2233\n",
      "VARIANCE REQUEST                    2195\n",
      "CRITICAL INCIDENT REPORT            2139\n",
      "REGULAR INSPECTION                  1872\n",
      "Name: inspection_reason, dtype: int64\n",
      "\n",
      "\n",
      "Distinct values for unique_id: 13618\n",
      "\n",
      "\n",
      "Distinct values for non_compliance_name: 257\n",
      "\n",
      "\n",
      "Distinct values for enforcement_action: 10\n",
      "Top 10:\n",
      "ORDER TO REMEDY                    17323\n",
      "VERBAL WARNING                      1359\n",
      "VARIATION OF LICENCE PROVISIONS      651\n",
      "CONDITIONS ON LICENCE                239\n",
      "LICENCE SUSPENSION                    56\n",
      "PROBATIONARY LICENCE                  36\n",
      "Not Collected                         15\n",
      "NOTICE OF NON-COMPLIANCE               5\n",
      "LICENCE CANCELLATION                   4\n",
      "Name: enforcement_action, dtype: int64\n",
      "\n",
      "\n",
      "Distinct values for remedy_date: 1199\n",
      "\n",
      "\n"
     ]
    }
   ],
   "source": [
    "for c in df.columns:\n",
    "    dist = len(df[c].unique())\n",
    "    print(f\"Distinct values for {c}: {dist}\")\n",
    "    if dist <20:\n",
    "        print(\"Top 10:\")\n",
    "        print(df[c].value_counts()[:10])\n",
    "    print(\"\\n\")"
   ]
  },
  {
   "cell_type": "code",
   "execution_count": null,
   "id": "1110e73c-a51c-4bf4-b938-89920a408d6a",
   "metadata": {},
   "outputs": [],
   "source": [
    "df"
   ]
  }
 ],
 "metadata": {
  "kernelspec": {
   "display_name": "Python 3 (ipykernel)",
   "language": "python",
   "name": "python3"
  },
  "language_info": {
   "codemirror_mode": {
    "name": "ipython",
    "version": 3
   },
   "file_extension": ".py",
   "mimetype": "text/x-python",
   "name": "python",
   "nbconvert_exporter": "python",
   "pygments_lexer": "ipython3",
   "version": "3.9.15"
  }
 },
 "nbformat": 4,
 "nbformat_minor": 5
}
